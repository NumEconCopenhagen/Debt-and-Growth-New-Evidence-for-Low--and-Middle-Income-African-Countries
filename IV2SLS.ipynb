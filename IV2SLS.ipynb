{
 "cells": [
  {
   "cell_type": "code",
   "execution_count": 13,
   "metadata": {},
   "outputs": [
    {
     "name": "stdout",
     "output_type": "stream",
     "text": [
      "                                   IV2SLS Regression Results                                    \n",
      "================================================================================================\n",
      "Dep. Variable:     GDP_per_capita_growth_annual_Percent   R-squared:                       0.014\n",
      "Model:                                           IV2SLS   Adj. R-squared:                  0.008\n",
      "Method:                                       Two Stage   F-statistic:                     1.920\n",
      "                                          Least Squares   Prob (F-statistic):             0.0750\n",
      "Date:                                  Thu, 18 Apr 2024                                         \n",
      "Time:                                          12:21:45                                         \n",
      "No. Observations:                                   864                                         \n",
      "Df Residuals:                                       857                                         \n",
      "Df Model:                                             6                                         \n",
      "=============================================================================================================\n",
      "                                                coef    std err          t      P>|t|      [0.025      0.975]\n",
      "-------------------------------------------------------------------------------------------------------------\n",
      "const                                        -0.6675      1.975     -0.338      0.736      -4.544       3.209\n",
      "Gross_capital_formation_Percent_of_GDP        0.0512      0.020      2.497      0.013       0.011       0.091\n",
      "Gross_national_expenditure_Percent_of_GDP     0.0111      0.013      0.885      0.376      -0.014       0.036\n",
      "Net_barter_terms_of_trade_index_2015_100      0.0074      0.009      0.794      0.427      -0.011       0.026\n",
      "Population_growth_annual_Percent             -0.3158      0.186     -1.698      0.090      -0.681       0.049\n",
      "Trade_Percent_of_GDP                         -0.0042      0.006     -0.689      0.491      -0.016       0.008\n",
      "Government_Debt_Percent_of_GDP               -0.0008      0.004     -0.215      0.830      -0.008       0.007\n",
      "==============================================================================\n",
      "Omnibus:                      555.335   Durbin-Watson:                   1.554\n",
      "Prob(Omnibus):                  0.000   Jarque-Bera (JB):            16121.842\n",
      "Skew:                          -2.434   Prob(JB):                         0.00\n",
      "Kurtosis:                      23.594   Cond. No.                     2.20e+03\n",
      "==============================================================================\n"
     ]
    },
    {
     "name": "stderr",
     "output_type": "stream",
     "text": [
      "/var/folders/zn/8wl2ftxd7sg0pjvzvx59s5xr0000gn/T/ipykernel_24803/759617557.py:9: FutureWarning: Dropping of nuisance columns in DataFrame reductions (with 'numeric_only=None') is deprecated; in a future version this will raise TypeError.  Select only valid columns before calling the reduction.\n",
      "  data.fillna(data.mean(), inplace=True)\n"
     ]
    }
   ],
   "source": [
    "from statsmodels.sandbox.regression.gmm import IV2SLS\n",
    "import pandas as pd\n",
    "import numpy as np\n",
    "import statsmodels.api as sm\n",
    "\n",
    "data = pd.read_csv('fin_dataset_africa copy.csv', delimiter=';')\n",
    "data = data.replace('..', np.nan)\n",
    "data[data.columns[2:]] = data[data.columns[2:]].apply(pd.to_numeric, errors='coerce')\n",
    "data.fillna(data.mean(), inplace=True)\n",
    "\n",
    "df = data.copy()\n",
    "\n",
    "# remove all nan values\n",
    "df = df.dropna()\n",
    "\n",
    "# remove all .. values\n",
    "df = df.replace('..', np.nan)\n",
    "\n",
    "\n",
    "# Instrumental variables\n",
    "df['lag_debt'] = df.groupby('Country_Name')['Government_Debt_Percent_of_GDP'].shift(1)\n",
    "# remove the first year for each country\n",
    "df = df.dropna()\n",
    "\n",
    "\n",
    "# Define your variables\n",
    "endog = df['GDP_per_capita_growth_annual_Percent']\n",
    "\n",
    "exog = sm.add_constant(df[['Gross_capital_formation_Percent_of_GDP',\n",
    "                           'Gross_national_expenditure_Percent_of_GDP',\n",
    "                           'Net_barter_terms_of_trade_index_2015_100',\n",
    "                           'Population_growth_annual_Percent',\n",
    "                           'Trade_Percent_of_GDP']])\n",
    "\n",
    "instruments = sm.add_constant(df[['lag_debt', 'Gross_capital_formation_Percent_of_GDP',\n",
    "                                  'Gross_national_expenditure_Percent_of_GDP',\n",
    "                                  'Net_barter_terms_of_trade_index_2015_100',\n",
    "                                  'Population_growth_annual_Percent',\n",
    "                                  'Trade_Percent_of_GDP']])\n",
    "\n",
    "endog_regressor = df['Government_Debt_Percent_of_GDP']\n",
    "\n",
    "# Combine exogenous and endogenous regressors for the IV2SLS model\n",
    "exog_iv = exog.copy()\n",
    "exog_iv['Government_Debt_Percent_of_GDP'] = endog_regressor\n",
    "\n",
    "# Running 2SLS\n",
    "iv_model = IV2SLS(endog, exog_iv, instruments).fit()\n",
    "\n",
    "# Print the results from IV2SLS\n",
    "print(iv_model.summary())\n"
   ]
  }
 ],
 "metadata": {
  "kernelspec": {
   "display_name": "base",
   "language": "python",
   "name": "python3"
  },
  "language_info": {
   "codemirror_mode": {
    "name": "ipython",
    "version": 3
   },
   "file_extension": ".py",
   "mimetype": "text/x-python",
   "name": "python",
   "nbconvert_exporter": "python",
   "pygments_lexer": "ipython3",
   "version": "3.9.16"
  }
 },
 "nbformat": 4,
 "nbformat_minor": 2
}
