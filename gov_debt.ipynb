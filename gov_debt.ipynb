{
 "cells": [
  {
   "cell_type": "code",
   "execution_count": 6,
   "metadata": {},
   "outputs": [],
   "source": [
    "# It appears the first column is the country name, followed by yearly data. We need to set the first column as the index and transpose the DataFrame for the desired format.\n",
    "# Let's also replace the commas with dots to maintain a consistent numeric format.\n",
    "\n",
    "import pandas as pd\n",
    "\n",
    "# Let's load the CSV file using ';' as the separator and take a look at its contents.\n",
    "gov_debt_path = 'gov_debt.csv'\n",
    "gov_debt_data = pd.read_csv(gov_debt_path, delimiter=';', skiprows=1)  # Skipping the first row which seems to be empty\n",
    "\n",
    "# Display the first few rows of the data to understand its structure\n",
    "gov_debt_data.head()\n",
    "\n",
    "# First, we need to assign proper column names. We'll use the range from 2004 to 2024 as the header.\n",
    "years = list(range(2004, 2025))\n",
    "column_names = ['Country Name'] + years\n",
    "\n",
    "# Assign column names\n",
    "gov_debt_data.columns = column_names\n",
    "\n",
    "# Replace commas with dots\n",
    "gov_debt_data.replace({',': '.'}, regex=True, inplace=True)\n",
    "\n",
    "# Now we'll transpose the data and reset the index so we can have the years as rows and countries as columns.\n",
    "gov_debt_transposed = gov_debt_data.set_index('Country Name').T.reset_index()\n",
    "\n",
    "# Rename the columns to reflect that the index column is now 'Year'\n",
    "gov_debt_transposed.rename(columns={'index': 'Year'}, inplace=True)\n",
    "\n",
    "# Display the first few rows of the transposed data\n",
    "gov_debt_transposed.head()\n",
    "\n",
    "\n",
    "# Remove any columns that are not relevant or are filled with NaN values\n",
    "gov_debt_cleaned = gov_debt_transposed.dropna(axis=1, how='all')  # This will drop columns where all values are NaN\n",
    "\n",
    "# Remove the last column which seems to be a footer note from the IMF\n",
    "if '©IMF. 2023' in gov_debt_cleaned.columns:\n",
    "    gov_debt_cleaned.drop(columns=['©IMF. 2023'], inplace=True)\n",
    "\n",
    "# Confirm the cleanup by displaying the first few rows\n",
    "gov_debt_cleaned.head()\n",
    "\n",
    "\n",
    "# To convert the dataset to the requested panel data format, we'll melt the dataframe\n",
    "panel_data_format = gov_debt_cleaned.melt(id_vars=['Year'], var_name='Country Name', value_name='Government Debt (% of GDP) (Percent of GDP)')\n",
    "\n",
    "# Reorder columns to match the requested format\n",
    "panel_data_format = panel_data_format[['Country Name', 'Year', 'Government Debt (% of GDP) (Percent of GDP)']]\n",
    "\n",
    "# Display the first few rows of the panel data\n",
    "panel_data_format.head()\n",
    "\n",
    "# export to csv\n",
    "panel_data_format.to_csv('panel_data_format.csv', index=False)\n"
   ]
  }
 ],
 "metadata": {
  "kernelspec": {
   "display_name": "base",
   "language": "python",
   "name": "python3"
  },
  "language_info": {
   "codemirror_mode": {
    "name": "ipython",
    "version": 3
   },
   "file_extension": ".py",
   "mimetype": "text/x-python",
   "name": "python",
   "nbconvert_exporter": "python",
   "pygments_lexer": "ipython3",
   "version": "3.9.undefined"
  }
 },
 "nbformat": 4,
 "nbformat_minor": 2
}
