{
 "cells": [
  {
   "cell_type": "markdown",
   "metadata": {},
   "source": [
    "# <a id='toc1_'></a>[**Seminar**: Topics in Sovereign Debt](#toc0_)\n",
    "## <a id='toc1_1_'></a>[**Soveriegn Debt and Income:** New Evidence for Low- and Middle-Income African Countries](#toc0_)\n",
    "\n",
    "This project aims to create a dynamic threshold model to analyze when a country's debt starts to hamper growth in GDP. \n"
   ]
  },
  {
   "cell_type": "markdown",
   "metadata": {},
   "source": [
    "**Table of contents**<a id='toc0_'></a>    \n",
    "- [**Seminar**: Topics in Sovereign Debt](#toc1_)    \n",
    "  - [**Soveriegn Debt and Income:** New Evidence for Low- and Middle-Income African Countries](#toc1_1_)    \n",
    "    - [1. Exploratory Data Analysis (EDA)](#toc1_1_1_)    \n",
    "      - [Descriptive Statistics](#toc1_1_1_1_)    \n",
    "      - [Visualizations](#toc1_1_1_2_)    \n",
    "      - [Dynamic Exploratory Data Analysis](#toc1_1_1_3_)    \n",
    "    - [2. Baseline Model](#toc1_1_2_)    \n",
    "    - [3. Nonlinearity Check](#toc1_1_3_)    \n",
    "    - [4.Dynamic Threshold Model](#toc1_1_4_)    \n",
    "\n",
    "<!-- vscode-jupyter-toc-config\n",
    "\tnumbering=false\n",
    "\tanchor=true\n",
    "\tflat=false\n",
    "\tminLevel=1\n",
    "\tmaxLevel=6\n",
    "\t/vscode-jupyter-toc-config -->\n",
    "<!-- THIS CELL WILL BE REPLACED ON TOC UPDATE. DO NOT WRITE YOUR TEXT IN THIS CELL -->"
   ]
  },
  {
   "cell_type": "markdown",
   "metadata": {},
   "source": [
    "### <a id='toc1_1_1_'></a>[1. Exploratory Data Analysis (EDA)](#toc0_)\n",
    "- Descriptive statistics\n",
    "- Data visualization\n",
    "- Dynamic exploratory data analysis"
   ]
  },
  {
   "cell_type": "code",
   "execution_count": null,
   "metadata": {},
   "outputs": [],
   "source": [
    "## Libraries\n",
    "import pandas as pd\n",
    "import matplotlib.pyplot as plt\n",
    "import seaborn as sns  # For advanced visualizations\n",
    "import numpy as np\n",
    "\n",
    "def load_panel_data(file_path):\n",
    "    \"\"\" Loads panel data from CSV, handling potential future changes.\n",
    "\n",
    "    Args:\n",
    "        file_path (str): Path to the CSV file.\n",
    "\n",
    "    Returns:\n",
    "        pandas.DataFrame: The loaded DataFrame.\n",
    "    \"\"\"\n",
    "    df = pd.read_csv(file_path, sep=\";\")\n",
    "\n",
    "    # If column names or structure changes, adapt here:\n",
    "    df.rename(columns={\"old_column\": \"new_column\"}, inplace=True)  \n",
    "    # ... handle potential future adjustments\n",
    "\n",
    "    # make all columns after \"year\" into float values\n",
    "    df.iloc[:, 2:] = df.iloc[:, 2:].astype(float)\n",
    "\n",
    "    return df\n",
    "\n",
    "# Example usage:\n",
    "data = load_panel_data(\"angola_data.csv\")"
   ]
  },
  {
   "cell_type": "markdown",
   "metadata": {},
   "source": [
    "#### <a id='toc1_1_1_1_'></a>[Descriptive Statistics](#toc0_)"
   ]
  },
  {
   "cell_type": "code",
   "execution_count": null,
   "metadata": {},
   "outputs": [],
   "source": [
    "def summary_statistics(df, country=None, country_column=\"Country\"):\n",
    "    \"\"\" Provides descriptive statistics with flexibility.\n",
    "    \"\"\"\n",
    "    if country:\n",
    "        if country not in df[country_column].unique():\n",
    "            raise ValueError(f\"Country '{country}' not found in the dataset.\")  \n",
    "        df = df[df[country_column] == country]\n",
    "\n",
    "    desc = df.describe().T\n",
    "    return desc\n",
    "\n",
    "# Example usage, for Angola:\n",
    "summary_statistics(data, \"Angola\")\n",
    "\n",
    "\n",
    "\n"
   ]
  },
  {
   "cell_type": "markdown",
   "metadata": {},
   "source": [
    "#### <a id='toc1_1_1_2_'></a>[Visualizations](#toc0_)\n",
    "Should maybe be adjusted to individual countries. "
   ]
  },
  {
   "cell_type": "code",
   "execution_count": null,
   "metadata": {},
   "outputs": [],
   "source": [
    "def plot_distribution(df, column):\n",
    "    \"\"\" Plots distribution of a variable. Accepts column name.\n",
    "    \"\"\"\n",
    "    plt.figure(figsize=(8,5)) \n",
    "    sns.histplot(data=df, x=column)\n",
    "    plt.xlabel(column)\n",
    "    plt.title(f\"Distribution of {column}\")\n",
    "    plt.show()\n",
    "\n",
    "def plot_scatter(df, x_column, y_column):\n",
    "    \"\"\" Creates a scatter plot between two variables.\n",
    "    \"\"\"\n",
    "    plt.figure(figsize=(8,5))\n",
    "    sns.scatterplot(data=df, x=x_column, y=y_column)\n",
    "    plt.xlabel(x_column)\n",
    "    plt.ylabel(y_column)\n",
    "    plt.title(f\"Relationship between {x_column} and {y_column}\")\n",
    "    plt.show()\n",
    "\n",
    "# ... You can add functions for line plots, time series if needed\n"
   ]
  },
  {
   "cell_type": "markdown",
   "metadata": {},
   "source": [
    "#### <a id='toc1_1_1_3_'></a>[Dynamic Exploratory Data Analysis](#toc0_)"
   ]
  },
  {
   "cell_type": "code",
   "execution_count": null,
   "metadata": {},
   "outputs": [],
   "source": [
    "# Key variables of interest:\n",
    "key_variables = ['GDP per capita growth rate', 'Debt Ratio to GDP', 'Trade openess', \n",
    "                 'inflation', 'Government Effectiveness']  \n",
    "\n",
    "# Distributions:\n",
    "for var in key_variables:\n",
    "    plot_distribution(data, var)\n",
    "\n",
    "# Correlations (adjust if you want a different matrix):\n",
    "corr_matrix = data[key_variables].corr()  \n",
    "sns.heatmap(corr_matrix, annot=True) \n",
    "plt.title(\"Correlation Matrix\")\n",
    "plt.show()\n",
    "\n",
    "# Example scatterplot:\n",
    "plot_scatter(data, 'Debt Ratio to GDP', 'GDP per capita growth rate') \n"
   ]
  },
  {
   "cell_type": "markdown",
   "metadata": {},
   "source": []
  },
  {
   "cell_type": "markdown",
   "metadata": {},
   "source": [
    "### <a id='toc1_1_2_'></a>[2. Baseline Model](#toc0_)\n",
    "- Simple OLS regression\n",
    "- Bulding-blocks for a dynamic threshold model"
   ]
  },
  {
   "cell_type": "code",
   "execution_count": null,
   "metadata": {},
   "outputs": [],
   "source": [
    "import statsmodels.api as sm\n",
    "\n",
    "# Assuming your variables are in the 'data' DataFrame\n",
    "model = sm.OLS(data['Real GDP growth annual'], \n",
    "               data[['Debt Ratio to GDP', 'Trade openess', 'inflation', 'Government Effectiveness']])  \n",
    "results = model.fit()\n",
    "print(results.summary())\n",
    "\n",
    "\n",
    "# Set the threshold value\n",
    "x = 0.05\n",
    "\n",
    "# Check if any p-value is less than x\n",
    "if any(results.pvalues < x):\n",
    "    print(\"There is at least one coefficient with a p-value less than\", x)\n",
    "else:\n",
    "    print(\"All coefficients have p-values greater than or equal to\", x)\n"
   ]
  },
  {
   "cell_type": "markdown",
   "metadata": {},
   "source": [
    "### <a id='toc1_1_3_'></a>[3. Nonlinearity Check](#toc0_)\n",
    "- Nonlinearity check\n",
    "- Ramsey Reset\n"
   ]
  },
  {
   "cell_type": "code",
   "execution_count": 97,
   "metadata": {},
   "outputs": [
    {
     "data": {
      "image/png": "[encoded data removed]",
      "text/plain": [
       "<Figure size 576x360 with 1 Axes>"
      ]
     },
     "metadata": {
      "needs_background": "light"
     },
     "output_type": "display_data"
    }
   ],
   "source": [
    "import matplotlib.pyplot as plt\n",
    "\n",
    "# Fit your baseline linear model from the previous step (if you haven't already)\n",
    "# ... \n",
    "\n",
    "plt.figure(figsize=(8, 5))\n",
    "plt.scatter(results.fittedvalues, results.resid) \n",
    "plt.xlabel('Fitted Values')\n",
    "plt.ylabel('Residuals')\n",
    "plt.title('Residuals vs. Fitted Values')\n",
    "plt.show()\n"
   ]
  },
  {
   "cell_type": "code",
   "execution_count": 104,
   "metadata": {},
   "outputs": [
    {
     "name": "stdout",
     "output_type": "stream",
     "text": [
      "RESET Test F-statistic: -1.5746029560053578\n",
      "RESET Test p-value: nan\n"
     ]
    }
   ],
   "source": [
    "import statsmodels.formula.api as smf\n",
    "\n",
    "# Assuming your fitted model is in  'results'\n",
    "\n",
    "# 1. Get base restricted model  (your linear model in this case)\n",
    "restricted_model = results\n",
    "\n",
    "# 2. Create a more flexible unrestricted model \n",
    "unrestricted_model = smf.ols(formula=\"Real_GDP_Growth ~ Debt_Ratio_to_GDP + Trade_openess + Inflation + Government_Effectiveness + Debt_Ratio_to_GDP_Squared + I(Debt_Ratio_to_GDP_Squared * Debt_Ratio_to_GDP_Squared)\", data=data).fit() \n",
    "\n",
    "# 3. Calculate the F-statistic\n",
    "f_stat = ((restricted_model.ssr - unrestricted_model.ssr) / (unrestricted_model.df_resid - restricted_model.df_resid)) / (restricted_model.ssr / restricted_model.df_resid)\n",
    "\n",
    "# 4. Calculate the p-value (you'll need scipy)\n",
    "from scipy.stats import f\n",
    "p_value = 1 - f.cdf(f_stat, unrestricted_model.df_resid - restricted_model.df_resid, restricted_model.df_resid)\n",
    "\n",
    "# 5. Print the results\n",
    "print(f\"RESET Test F-statistic: {f_stat}\")\n",
    "print(f\"RESET Test p-value: {p_value}\") \n"
   ]
  },
  {
   "cell_type": "markdown",
   "metadata": {},
   "source": [
    "### <a id='toc1_1_4_'></a>[4. Dynamic Threshold Model](#toc0_)\n",
    "- Building the model\n",
    "- Estimation\n",
    "- Interpretation\n",
    "\n",
    "First set possible threshold values. Then estimate the model."
   ]
  },
  {
   "cell_type": "code",
   "execution_count": 111,
   "metadata": {},
   "outputs": [],
   "source": [
    "potential_threshold = 60  "
   ]
  },
  {
   "cell_type": "code",
   "execution_count": 114,
   "metadata": {},
   "outputs": [
    {
     "name": "stdout",
     "output_type": "stream",
     "text": [
      "Best Threshold: 64.30000000000064\n"
     ]
    }
   ],
   "source": [
    "import pandas as pd\n",
    "import numpy as np\n",
    "import statsmodels.formula.api as smf\n",
    "from sklearn.model_selection import train_test_split \n",
    "\n",
    "def split_data(data, threshold, target_var):\n",
    "    data_below = data[data['Debt_Ratio_to_GDP'] <= threshold]\n",
    "    data_above = data[data['Debt_Ratio_to_GDP'] > threshold]\n",
    "    return data_below, data_above\n",
    "\n",
    "threshold_values = np.arange(20, 90, 0.1)  # Range to explore\n",
    "best_fit = 0  \n",
    "best_threshold = None\n",
    "\n",
    "for threshold in threshold_values:\n",
    "    data_below, data_above = split_data(data, threshold, 'Real_GDP_Growth')\n",
    "\n",
    "    formula = 'Real_GDP_Growth ~ Debt_Ratio_to_GDP + Trade_openess + Inflation + Government_Effectiveness' # Define the formula string here \n",
    "\n",
    "    model_below = smf.ols(formula=formula, data=data_below).fit()\n",
    "    model_above = smf.ols(formula=formula, data=data_above).fit()\n",
    "\n",
    "    current_fit = model_below.rsquared + model_above.rsquared  \n",
    "\n",
    "    if current_fit > best_fit: \n",
    "        best_fit = current_fit\n",
    "        best_threshold = threshold\n",
    "\n",
    "print(f\"Best Threshold: {best_threshold}\") \n",
    "\n",
    "\n"
   ]
  }
 ],
 "metadata": {
  "kernelspec": {
   "display_name": "base",
   "language": "python",
   "name": "python3"
  },
  "language_info": {
   "codemirror_mode": {
    "name": "ipython",
    "version": 3
   },
   "file_extension": ".py",
   "mimetype": "text/x-python",
   "name": "python",
   "nbconvert_exporter": "python",
   "pygments_lexer": "ipython3",
   "version": "3.9.16"
  }
 },
 "nbformat": 4,
 "nbformat_minor": 2
}
