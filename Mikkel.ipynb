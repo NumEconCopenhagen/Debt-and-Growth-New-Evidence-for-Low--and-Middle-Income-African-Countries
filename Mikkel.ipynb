{
 "cells": [
  {
   "cell_type": "code",
   "execution_count": 2,
   "metadata": {},
   "outputs": [],
   "source": [
    "import numpy as np\n",
    "import pandas as pd\n",
    "import statsmodels.api as sm\n",
    "from linearmodels.panel import PanelOLS\n",
    "from statsmodels.sandbox.regression.gmm import IV2SLS\n",
    "from scipy.optimize import minimize"
   ]
  },
  {
   "cell_type": "code",
   "execution_count": null,
   "metadata": {},
   "outputs": [],
   "source": [
    "\n",
    "\n",
    "# Load your data\n",
    "SovDebt = pd.read_csv('fin_dataset_africa copy.csv')\n",
    "\n",
    "# Preprocessing your data (creating lagged variables, setting up panel data structure, etc.)\n",
    "\n",
    "# Step 1: Reduced form regression\n",
    "# Assuming 'y' is your GDP growth and 'X' are your other regressors including lags of 'y'\n",
    "# X = df[['control_vars', 'lagged_GDP_growth']]\n",
    "# y = df['GDP_growth']\n",
    "# results_reduced_form = PanelOLS(y, X).fit()\n",
    "\n",
    "# Step 2: Estimate the model for each potential threshold value\n",
    "def threshold_model(threshold, df, y, X, Z):\n",
    "    \"\"\"\n",
    "    Estimate the threshold model given a threshold value.\n",
    "    \"\"\"\n",
    "    df_below_threshold = df[df[Z] <= threshold]\n",
    "    df_above_threshold = df[df[Z] > threshold]\n",
    "\n",
    "    # Separate regressions for each regime\n",
    "    results_below = PanelOLS(y.loc[df_below_threshold.index], X.loc[df_below_threshold.index]).fit()\n",
    "    results_above = PanelOLS(y.loc[df_above_threshold.index], X.loc[df_above_threshold.index]).fit()\n",
    "\n",
    "    # Calculate the sum of squared residuals for each regime\n",
    "    ssr_below = np.sum(results_below.resids**2)\n",
    "    ssr_above = np.sum(results_above.resids**2)\n",
    "\n",
    "    # Return the total SSR\n",
    "    return ssr_below + ssr_above\n",
    "\n",
    "# Define the grid search for the threshold value\n",
    "threshold_values = np.linspace(min(df[Z]), max(df[Z]), num=100)  # Replace with your actual grid\n",
    "ssr_values = [threshold_model(th, df, y, X, Z) for th in threshold_values]\n",
    "\n",
    "# Find the threshold value that minimizes the SSR\n",
    "optimal_threshold = threshold_values[np.argmin(ssr_values)]\n",
    "\n",
    "# Step 3: Bootstrap procedure for threshold significance\n",
    "# You would implement a bootstrap method here that resamples your data\n",
    "# and recalculates the threshold value to test its significance.\n",
    "\n",
    "# Step 4: GMM Estimation with the estimated threshold\n",
    "# Now that you have your estimated threshold, you can set up your IV/GMM model\n",
    "# and estimate it using the optimal_threshold\n",
    "\n",
    "# Example placeholder for GMM estimation\n",
    "# This is highly simplified and would need to be adapted to your model specifics\n",
    "# iv = IV2SLS(dependent=y, exog=X, instruments=your_instruments).fit(cov_type='robust')\n",
    "\n",
    "# Perform diagnostics and validation on your estimated models\n"
   ]
  }
 ],
 "metadata": {
  "kernelspec": {
   "display_name": "base",
   "language": "python",
   "name": "python3"
  },
  "language_info": {
   "codemirror_mode": {
    "name": "ipython",
    "version": 3
   },
   "file_extension": ".py",
   "mimetype": "text/x-python",
   "name": "python",
   "nbconvert_exporter": "python",
   "pygments_lexer": "ipython3",
   "version": "3.11.7"
  }
 },
 "nbformat": 4,
 "nbformat_minor": 2
}
