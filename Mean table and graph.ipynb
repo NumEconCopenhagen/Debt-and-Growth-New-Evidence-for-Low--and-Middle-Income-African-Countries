{
 "cells": [
  {
   "cell_type": "code",
   "execution_count": 1,
   "metadata": {},
   "outputs": [
    {
     "name": "stderr",
     "output_type": "stream",
     "text": [
      "/Users/vg/opt/anaconda3/lib/python3.9/site-packages/scipy/__init__.py:146: UserWarning: A NumPy version >=1.16.5 and <1.23.0 is required for this version of SciPy (detected version 1.23.5\n",
      "  warnings.warn(f\"A NumPy version >={np_minversion} and <{np_maxversion}\"\n"
     ]
    }
   ],
   "source": [
    "import pandas as pd\n",
    "import numpy as np\n",
    "import matplotlib.pyplot as plt\n",
    "import seaborn as sns\n",
    "import statsmodels.api as sm\n",
    "\n",
    "# auto reload\n",
    "%load_ext autoreload\n",
    "%autoreload 2\n"
   ]
  },
  {
   "cell_type": "code",
   "execution_count": 2,
   "metadata": {},
   "outputs": [],
   "source": [
    "# load data from  fin_dataset_africa copy.csv\n",
    "\n",
    "data = pd.read_csv('fin_dataset_africa copy.csv', delimiter=';')"
   ]
  },
  {
   "cell_type": "code",
   "execution_count": 3,
   "metadata": {},
   "outputs": [
    {
     "name": "stdout",
     "output_type": "stream",
     "text": [
      "Index(['Country_Name', 'Year', 'Government_Debt_(Percent_of_GDP)',\n",
      "       'Foreign_direct_investment_net_inflows_(Percent_of_GDP)',\n",
      "       'GDP_per_capita_growth_(annual_Percent)',\n",
      "       'Gross_capital_formation_(Percent_of_GDP)',\n",
      "       'Gross_national_expenditure_(Percent_of_GDP)',\n",
      "       'Net_barter_terms_of_trade_index_(2015_=_100)',\n",
      "       'Population_growth_(annual_Percent)', 'Trade_(Percent_of_GDP)'],\n",
      "      dtype='object')\n",
      "Country_Name                                               object\n",
      "Year                                                        int64\n",
      "Government_Debt_(Percent_of_GDP)                          float64\n",
      "Foreign_direct_investment_net_inflows_(Percent_of_GDP)    float64\n",
      "GDP_per_capita_growth_(annual_Percent)                    float64\n",
      "Gross_capital_formation_(Percent_of_GDP)                  float64\n",
      "Gross_national_expenditure_(Percent_of_GDP)               float64\n",
      "Net_barter_terms_of_trade_index_(2015_=_100)              float64\n",
      "Population_growth_(annual_Percent)                        float64\n",
      "Trade_(Percent_of_GDP)                                    float64\n",
      "dtype: object\n"
     ]
    },
    {
     "name": "stderr",
     "output_type": "stream",
     "text": [
      "/var/folders/zn/8wl2ftxd7sg0pjvzvx59s5xr0000gn/T/ipykernel_19450/4219909817.py:11: FutureWarning: Dropping of nuisance columns in DataFrame reductions (with 'numeric_only=None') is deprecated; in a future version this will raise TypeError.  Select only valid columns before calling the reduction.\n",
      "  data.fillna(data.mean(), inplace=True)\n"
     ]
    }
   ],
   "source": [
    "print(data.columns)\n",
    "\n",
    "# print types\n",
    "\n",
    "# convert all values from column 2 and on to numeric\n",
    "data[data.columns[2:]] = data[data.columns[2:]].apply(pd.to_numeric, errors='coerce')\n",
    "\n",
    "print(data.dtypes)\n",
    "\n",
    "# convert nans to mean\n",
    "data.fillna(data.mean(), inplace=True)\n",
    "\n",
    "# convert .. to mean\n",
    "data = data.replace('..', np.nan)"
   ]
  },
  {
   "cell_type": "code",
   "execution_count": 4,
   "metadata": {},
   "outputs": [],
   "source": [
    "# get mean for each of the countries in the dataset\n",
    "mean_debt = data.groupby('Country_Name')['Government_Debt_(Percent_of_GDP)'].mean()\n",
    "mean_gdp = data.groupby('Country_Name')['GDP_per_capita_growth_(annual_Percent)'].mean()"
   ]
  },
  {
   "cell_type": "code",
   "execution_count": 5,
   "metadata": {},
   "outputs": [
    {
     "name": "stderr",
     "output_type": "stream",
     "text": [
      "/var/folders/zn/8wl2ftxd7sg0pjvzvx59s5xr0000gn/T/ipykernel_19450/3336787754.py:19: UserWarning: color is redundantly defined by the 'color' keyword argument and the fmt string \"r\" (-> color=(1.0, 0.0, 0.0, 1)). The keyword argument will take precedence.\n",
      "  plt.plot(mean_debt, results.fittedvalues, 'r', color ='blue')\n"
     ]
    },
    {
     "data": {
      "image/png": "[encoded data removed]",
      "text/plain": [
       "<Figure size 864x576 with 1 Axes>"
      ]
     },
     "metadata": {
      "needs_background": "light"
     },
     "output_type": "display_data"
    }
   ],
   "source": [
    "import matplotlib.pyplot as plt\n",
    "import statsmodels.api as sm\n",
    "\n",
    "# ... (assuming you have mean_debt and mean_gdp calculated)\n",
    "\n",
    "plt.figure(figsize=(12, 8))\n",
    "\n",
    "# Either extract elements:\n",
    "for i in range(len(mean_debt)):\n",
    "    plt.scatter(mean_debt[i], mean_gdp[i])\n",
    "\n",
    "# ... Or convert to lists:\n",
    "# plt.scatter(mean_debt.tolist(), mean_gdp.tolist())\n",
    "\n",
    "# add a line of best fit\n",
    "X = sm.add_constant(mean_debt)\n",
    "model = sm.OLS(mean_gdp, X, missing='drop')\n",
    "results = model.fit()\n",
    "plt.plot(mean_debt, results.fittedvalues, 'r', color ='blue')\n",
    "\n",
    "# make plot pretty\n",
    "plt.grid()\n",
    "plt.legend(['Fitted line'])\n",
    "\n",
    "# make plot bigger\n",
    "\n",
    "plt.xlabel('Mean Debt')\n",
    "plt.ylabel('Mean GDP')\n",
    "plt.title('Mean Debt vs Mean GDP')\n",
    "plt.show()\n",
    "\n"
   ]
  },
  {
   "cell_type": "code",
   "execution_count": 6,
   "metadata": {},
   "outputs": [
    {
     "name": "stderr",
     "output_type": "stream",
     "text": [
      "/var/folders/zn/8wl2ftxd7sg0pjvzvx59s5xr0000gn/T/ipykernel_19450/139042300.py:11: FutureWarning: In future versions `DataFrame.to_latex` is expected to utilise the base implementation of `Styler.to_latex` for formatting and rendering. The arguments signature may therefore change. It is recommended instead to use `DataFrame.style.to_latex` which also contains additional functionality.\n",
      "  mean_debt_gdp.to_latex('mean_debt_gdp.tex')\n"
     ]
    }
   ],
   "source": [
    "# make mean_debt and mean_gdp into a latrex table together\n",
    "\n",
    "mean_debt = mean_debt.reset_index()\n",
    "mean_gdp = mean_gdp.reset_index()\n",
    "\n",
    "mean_debt_gdp = pd.merge(mean_debt, mean_gdp, on='Country_Name')\n",
    "\n",
    "# make country name the index\n",
    "mean_debt_gdp.set_index('Country_Name', inplace=True)\n",
    "\n",
    "mean_debt_gdp.to_latex('mean_debt_gdp.tex')\n",
    "\n",
    "\n"
   ]
  }
 ],
 "metadata": {
  "kernelspec": {
   "display_name": "base",
   "language": "python",
   "name": "python3"
  },
  "language_info": {
   "codemirror_mode": {
    "name": "ipython",
    "version": 3
   },
   "file_extension": ".py",
   "mimetype": "text/x-python",
   "name": "python",
   "nbconvert_exporter": "python",
   "pygments_lexer": "ipython3",
   "version": "3.9.16"
  }
 },
 "nbformat": 4,
 "nbformat_minor": 2
}
