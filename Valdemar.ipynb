{
 "cells": [
  {
   "cell_type": "markdown",
   "metadata": {},
   "source": [
    "# <a id='toc1_'></a>[**Seminar**: Topics in Sovereign Debt](#toc0_)\n",
    "## <a id='toc1_1_'></a>[**Soveriegn Debt and Income:** New Evidence for Low- and Middle-Income African Countries](#toc0_)\n",
    "\n",
    "This project aims to create a dynamic threshold model to analyze when a country's debt starts to hamper growth in GDP. \n"
   ]
  },
  {
   "cell_type": "markdown",
   "metadata": {},
   "source": [
    "**Table of contents**<a id='toc0_'></a>    \n",
    "- [**Seminar**: Topics in Sovereign Debt](#toc1_)    \n",
    "  - [**Soveriegn Debt and Income:** New Evidence for Low- and Middle-Income African Countries](#toc1_1_)    \n",
    "    - [1. Exploratory Data Analysis (EDA)](#toc1_1_1_)    \n",
    "      - [Descriptive Statistics](#toc1_1_1_1_)    \n",
    "      - [Visualizations](#toc1_1_1_2_)    \n",
    "      - [Dynamic Exploratory Data Analysis](#toc1_1_1_3_)    \n",
    "    - [2. Baseline Model](#toc1_1_2_)    \n",
    "    - [3. Nonlinearity Check](#toc1_1_3_)    \n",
    "    - [4.Dynamic Threshold Model](#toc1_1_4_)    \n",
    "\n",
    "<!-- vscode-jupyter-toc-config\n",
    "\tnumbering=false\n",
    "\tanchor=true\n",
    "\tflat=false\n",
    "\tminLevel=1\n",
    "\tmaxLevel=6\n",
    "\t/vscode-jupyter-toc-config -->\n",
    "<!-- THIS CELL WILL BE REPLACED ON TOC UPDATE. DO NOT WRITE YOUR TEXT IN THIS CELL -->"
   ]
  },
  {
   "cell_type": "code",
   "execution_count": null,
   "metadata": {},
   "outputs": [],
   "source": [
    "## Libraries\n",
    "import pandas as pd\n",
    "import matplotlib.pyplot as plt\n",
    "import seaborn as sns  # For advanced visualizations\n",
    "import numpy as np\n",
    "import statsmodels.api as sm\n",
    "\n",
    "# load the data\n",
    "data = pd.read_csv('fin_dataset_africa copy.csv', delimiter=';')\n",
    "\n",
    "# replace values \",,\" from the dataset with NaN\n",
    "data = data.replace('..', np.nan)"
   ]
  },
  {
   "cell_type": "code",
   "execution_count": null,
   "metadata": {},
   "outputs": [],
   "source": [
    "# create dataset without countries – drop the column\n",
    "data = data.drop(columns=['Country_Name'])"
   ]
  },
  {
   "cell_type": "code",
   "execution_count": null,
   "metadata": {},
   "outputs": [],
   "source": [
    "# set year as index\n",
    "data = data.set_index('Year')"
   ]
  },
  {
   "cell_type": "code",
   "execution_count": 21,
   "metadata": {},
   "outputs": [],
   "source": [
    "# replace nan values with the mean of the column\n",
    "data = data.fillna(data.mean())"
   ]
  },
  {
   "cell_type": "code",
   "execution_count": 29,
   "metadata": {},
   "outputs": [
    {
     "name": "stdout",
     "output_type": "stream",
     "text": [
      "Index(['Government_Debt_(Percent_of_GDP)',\n",
      "       'Foreign_direct_investment_net_inflows_(Percent_of_GDP)',\n",
      "       'GDP_per_capita_growth_(annual_Percent)',\n",
      "       'Gross_capital_formation_(Percent_of_GDP)',\n",
      "       'Gross_national_expenditure_(Percent_of_GDP)',\n",
      "       'Net_barter_terms_of_trade_index_(2015_=_100)',\n",
      "       'Population_growth_(annual_Percent)', 'Trade_(Percent_of_GDP)',\n",
      "       'fitted_values'],\n",
      "      dtype='object')\n"
     ]
    }
   ],
   "source": [
    "# print data column names\n",
    "print(data.columns)"
   ]
  },
  {
   "cell_type": "code",
   "execution_count": 32,
   "metadata": {},
   "outputs": [],
   "source": [
    "# Specify variables \n",
    "dep_var = \"GDP_per_capita_growth_(annual_Percent)\"\n",
    "endogenous_var = \"Government_Debt_(Percent_of_GDP)\"\n",
    "exogenous_vars = [\n",
    "                'Gross_capital_formation_(Percent_of_GDP)',\n",
    "                'Gross_national_expenditure_(Percent_of_GDP)',\n",
    "                'Net_barter_terms_of_trade_index_(2015_=_100)',\n",
    "                'Population_growth_(annual_Percent)', \n",
    "                'Trade_(Percent_of_GDP)'] # Other control variables\n",
    "\n",
    "instrument = \"Foreign_direct_investment_net_inflows_(Percent_of_GDP)\"  "
   ]
  },
  {
   "cell_type": "code",
   "execution_count": 36,
   "metadata": {},
   "outputs": [
    {
     "name": "stdout",
     "output_type": "stream",
     "text": [
      "                                        OLS Regression Results                                       \n",
      "=====================================================================================================\n",
      "Dep. Variable:     Government_Debt_(Percent_of_GDP)   R-squared (uncentered):                   0.570\n",
      "Model:                                          OLS   Adj. R-squared (uncentered):              0.567\n",
      "Method:                               Least Squares   F-statistic:                              200.2\n",
      "Date:                              Tue, 16 Apr 2024   Prob (F-statistic):                   2.96e-162\n",
      "Time:                                      08:43:39   Log-Likelihood:                         -4828.5\n",
      "No. Observations:                               912   AIC:                                      9669.\n",
      "Df Residuals:                                   906   BIC:                                      9698.\n",
      "Df Model:                                         6                                                  \n",
      "Covariance Type:                          nonrobust                                                  \n",
      "==========================================================================================================================\n",
      "                                                             coef    std err          t      P>|t|      [0.025      0.975]\n",
      "--------------------------------------------------------------------------------------------------------------------------\n",
      "Gross_capital_formation_(Percent_of_GDP)                  -0.4381      0.209     -2.092      0.037      -0.849      -0.027\n",
      "Gross_national_expenditure_(Percent_of_GDP)                0.5472      0.062      8.803      0.000       0.425       0.669\n",
      "Net_barter_terms_of_trade_index_(2015_=_100)              -0.0232      0.073     -0.318      0.751      -0.166       0.120\n",
      "Population_growth_(annual_Percent)                        -0.7666      1.715     -0.447      0.655      -4.132       2.599\n",
      "Trade_(Percent_of_GDP)                                     0.1037      0.060      1.715      0.087      -0.015       0.222\n",
      "Foreign_direct_investment_net_inflows_(Percent_of_GDP)     0.5838      0.213      2.746      0.006       0.167       1.001\n",
      "==============================================================================\n",
      "Omnibus:                      854.376   Durbin-Watson:                   0.377\n",
      "Prob(Omnibus):                  0.000   Jarque-Bera (JB):            33982.119\n",
      "Skew:                           4.267   Prob(JB):                         0.00\n",
      "Kurtosis:                      31.661   Cond. No.                         179.\n",
      "==============================================================================\n",
      "\n",
      "Notes:\n",
      "[1] R² is computed without centering (uncentered) since the model does not contain a constant.\n",
      "[2] Standard Errors assume that the covariance matrix of the errors is correctly specified.\n"
     ]
    }
   ],
   "source": [
    "first_stage_model = sm.OLS(data[endogenous_var], data[exogenous_vars + [instrument]]).fit()\n",
    "fitted_values = first_stage_model.fittedvalues\n",
    "\n",
    "# Add fitted values to the dataset\n",
    "data[\"fitted_values\"] = fitted_values\n",
    "\n",
    "print(first_stage_model.summary())"
   ]
  },
  {
   "cell_type": "code",
   "execution_count": 37,
   "metadata": {},
   "outputs": [
    {
     "name": "stdout",
     "output_type": "stream",
     "text": [
      "                                           OLS Regression Results                                          \n",
      "===========================================================================================================\n",
      "Dep. Variable:     GDP_per_capita_growth_(annual_Percent)   R-squared (uncentered):                   0.094\n",
      "Model:                                                OLS   Adj. R-squared (uncentered):              0.088\n",
      "Method:                                     Least Squares   F-statistic:                              15.67\n",
      "Date:                                    Tue, 16 Apr 2024   Prob (F-statistic):                    3.55e-17\n",
      "Time:                                            08:43:41   Log-Likelihood:                         -2720.9\n",
      "No. Observations:                                     912   AIC:                                      5454.\n",
      "Df Residuals:                                         906   BIC:                                      5483.\n",
      "Df Model:                                               6                                                  \n",
      "Covariance Type:                                nonrobust                                                  \n",
      "================================================================================================================\n",
      "                                                   coef    std err          t      P>|t|      [0.025      0.975]\n",
      "----------------------------------------------------------------------------------------------------------------\n",
      "Gross_capital_formation_(Percent_of_GDP)         0.0652      0.024      2.698      0.007       0.018       0.113\n",
      "Gross_national_expenditure_(Percent_of_GDP)     -0.0265      0.021     -1.291      0.197      -0.067       0.014\n",
      "Net_barter_terms_of_trade_index_(2015_=_100)     0.0026      0.007      0.361      0.718      -0.012       0.017\n",
      "Population_growth_(annual_Percent)              -0.0986      0.171     -0.578      0.563      -0.434       0.236\n",
      "Trade_(Percent_of_GDP)                          -0.0086      0.007     -1.146      0.252      -0.023       0.006\n",
      "fitted_values                                    0.0623      0.036      1.724      0.085      -0.009       0.133\n",
      "==============================================================================\n",
      "Omnibus:                      469.165   Durbin-Watson:                   1.519\n",
      "Prob(Omnibus):                  0.000   Jarque-Bera (JB):            16178.790\n",
      "Skew:                          -1.702   Prob(JB):                         0.00\n",
      "Kurtosis:                      23.351   Cond. No.                         189.\n",
      "==============================================================================\n",
      "\n",
      "Notes:\n",
      "[1] R² is computed without centering (uncentered) since the model does not contain a constant.\n",
      "[2] Standard Errors assume that the covariance matrix of the errors is correctly specified.\n"
     ]
    }
   ],
   "source": [
    "second_stage_model = sm.OLS(data['GDP_per_capita_growth_(annual_Percent)'], data[exogenous_vars + ['fitted_values']]).fit()\n",
    "\n",
    "# Print results\n",
    "print(second_stage_model.summary())\n"
   ]
  },
  {
   "cell_type": "markdown",
   "metadata": {},
   "source": [
    "### <a id='toc1_1_1_'></a>[1. Exploratory Data Analysis (EDA)](#toc0_)\n",
    "- Descriptive statistics\n",
    "- Data visualization\n",
    "- Dynamic exploratory data analysis"
   ]
  },
  {
   "cell_type": "code",
   "execution_count": null,
   "metadata": {},
   "outputs": [],
   "source": [
    "## Libraries\n",
    "import pandas as pd\n",
    "import matplotlib.pyplot as plt\n",
    "import seaborn as sns  # For advanced visualizations\n",
    "import numpy as np\n",
    "\n",
    "# load the data\n",
    "data = pd.read_csv('fin_dataset_africa copy.csv', delimiter=';')\n",
    "\n",
    "# replace values \",,\" from the dataset with NaN\n",
    "data = data.replace('..', np.nan)\n"
   ]
  },
  {
   "cell_type": "code",
   "execution_count": null,
   "metadata": {},
   "outputs": [],
   "source": [
    "# create new datafram from the data, but with the columns 'Country Name' and 'Year' as index\n",
    "\n",
    "#data = data.set_index(['Country Name', 'Year'])"
   ]
  },
  {
   "cell_type": "code",
   "execution_count": null,
   "metadata": {},
   "outputs": [],
   "source": [
    "# create dataset without countries – drop the column\n",
    "data = data.drop(columns=['Country Name'])"
   ]
  },
  {
   "cell_type": "code",
   "execution_count": null,
   "metadata": {},
   "outputs": [],
   "source": [
    "import seaborn as sns # type: ignore\n",
    "\n",
    "# Plot the bell curve\n",
    "sns.displot(data, x = 'Government Debt (% of GDP) (Percent of GDP)', kind=\"kde\", height = 10, aspect = 3)\n",
    "\n",
    "\n",
    "# Set the labels and title\n",
    "plt.xlabel('Government Debt (% of GDP)', fontsize=15)\n",
    "plt.ylabel('Density', fontsize=15)\n",
    "plt.title('Bell Curve of Government Debt (% of GDP)', fontsize = 30)\n",
    "\n",
    "\n",
    "\n",
    "# Show the plot\n",
    "plt.show()\n",
    "\n"
   ]
  },
  {
   "cell_type": "code",
   "execution_count": null,
   "metadata": {},
   "outputs": [],
   "source": [
    "from linearmodels.iv import IVGMM"
   ]
  },
  {
   "cell_type": "code",
   "execution_count": null,
   "metadata": {},
   "outputs": [],
   "source": [
    "import pandas as pd\n",
    "from linearmodels.iv import IVGMM\n",
    "\n",
    "# Define the endogenous, exogenous, and instruments variables\n",
    "endog_vars = ['Government Debt (% of GDP) (Percent of GDP)']\n",
    "exog_vars = ['Foreign direct investment net inflows (% of GDP)',\n",
    "             'Gross capital formation (% of GDP)', 'Gross national expenditure (% of GDP)',\n",
    "             'Net barter terms of trade index (2015 = 100)', 'Population growth (annual %)',\n",
    "             'Trade (% of GDP)']\n",
    "instrument_vars = ['Government Debt (% of GDP) (Percent of GDP)']\n",
    "\n",
    "# Perform IV estimation using IV-GMM\n",
    "iv_model = IVGMM(dependent=data[endog_vars],\n",
    "                 exog=data[exog_vars],\n",
    "                 endog=data[endog_vars],\n",
    "                 instruments=data[instrument_vars])\n",
    "\n",
    "# Fit the model\n",
    "iv_results = iv_model.fit()\n",
    "\n",
    "# Print estimation results\n",
    "print(iv_results)\n"
   ]
  },
  {
   "cell_type": "markdown",
   "metadata": {},
   "source": [
    "#### <a id='toc1_1_1_1_'></a>[Descriptive Statistics](#toc0_)"
   ]
  },
  {
   "cell_type": "code",
   "execution_count": null,
   "metadata": {},
   "outputs": [],
   "source": [
    "def calculate_summary_stats(data):\n",
    "    # Select the last seven columns\n",
    "    last_seven_cols = data.iloc[:, -7:]\n",
    "\n",
    "    # Basic statistics\n",
    "    basic_stats = last_seven_cols.describe()\n",
    "\n",
    "    # Calculate the percentage of missing values for the last seven columns\n",
    "    missing_percentage = last_seven_cols.isnull().mean() * 100\n",
    "\n",
    "    # Add the missing values percentage as a new row to the basic_stats DataFrame\n",
    "    basic_stats.loc['missing %'] = missing_percentage\n",
    "\n",
    "    # Ensure the 'count' row is adjusted to reflect non-missing values only\n",
    "    basic_stats.loc['count'] = basic_stats.loc['count'] - (basic_stats.loc['count'] * basic_stats.loc['missing %'] / 100)    \n",
    "    \n",
    "    # Convert the combined stats to LaTeX format\n",
    "    latex_output = basic_stats.to_latex()\n",
    "\n",
    "    # Saving the LaTeX output to a file\n",
    "    with open('statistics_description.tex', 'w') as f:\n",
    "        f.write(latex_output)\n",
    "\n",
    "    # Optionally print the LaTeX output to check\n",
    "    print(latex_output)\n",
    "\n",
    "calculate_summary_stats(data)\n"
   ]
  },
  {
   "cell_type": "markdown",
   "metadata": {},
   "source": [
    "#### <a id='toc1_1_1_2_'></a>[Visualizations](#toc0_)\n",
    "Should maybe be adjusted to individual countries. "
   ]
  },
  {
   "cell_type": "code",
   "execution_count": null,
   "metadata": {},
   "outputs": [],
   "source": [
    "def visualize_indicators_grid(country_name):\n",
    "    \"\"\"\n",
    "    Visualizes all indicators from column 3 onwards for the specified country in a grid format.\n",
    "\n",
    "    Parameters:\n",
    "    - country_name: The name of the country.\n",
    "    \"\"\"\n",
    "    # Filter the data for the specified country and ensure the 'Year' column is numeric\n",
    "    country_data = data[data['Country Name'] == country_name].copy()\n",
    "    country_data['Year'] = pd.to_numeric(country_data['Year'])\n",
    "    \n",
    "    # Get all indicators from column 3 onwards\n",
    "    indicators = data.columns[2:]\n",
    "    n_indicators = len(indicators)\n",
    "    \n",
    "    # Determine the grid size\n",
    "    rows = int(n_indicators**0.5)\n",
    "    cols = int(n_indicators / rows) + (n_indicators % rows > 0)\n",
    "    \n",
    "    fig, axes = plt.subplots(rows, cols, figsize=(cols*5, rows*3))\n",
    "    fig.suptitle(f'All Indicators for {country_name}', fontsize=16)\n",
    "    \n",
    "    # Flatten the axes array for easy indexing\n",
    "    axes = axes.flatten()\n",
    "    \n",
    "    # Iterate through each indicator and plot in the grid\n",
    "    for i, indicator in enumerate(indicators):\n",
    "        ax = axes[i]\n",
    "        country_data[indicator] = pd.to_numeric(country_data[indicator], errors='coerce')\n",
    "        ax.plot(country_data['Year'], country_data[indicator], marker='o', linestyle='-')\n",
    "        ax.set_title(indicator, fontsize=10)\n",
    "        ax.set_xlabel('Year', fontsize=8)\n",
    "        ax.set_ylabel(indicator, fontsize=8)\n",
    "        ax.tick_params(axis='x', labelrotation=45)\n",
    "        ax.tick_params(axis='both', labelsize=8)\n",
    "        ax.grid(True)\n",
    "    \n",
    "    # Hide any unused axes if the number of indicators doesn't fill the last row\n",
    "    for j in range(i + 1, rows * cols):\n",
    "        axes[j].axis('off')\n",
    "\n",
    "    plt.tight_layout(rect=[0, 0.03, 1, 0.95])  # Adjust the layout to make room for the main title\n",
    "    plt.show()\n",
    "\n",
    "# Visualize all indicators for Angola in a grid format\n",
    "visualize_indicators_grid('Lesotho')\n"
   ]
  },
  {
   "cell_type": "code",
   "execution_count": null,
   "metadata": {},
   "outputs": [],
   "source": [
    "def visualize_country_data_fixed(country_name, indicator):\n",
    "    \"\"\"\n",
    "    Visualizes the given indicator over the years for the specified country with fixed axes.\n",
    "\n",
    "    Parameters:\n",
    "    - country_name: The name of the country.\n",
    "    - indicator: The specific indicator to visualize.\n",
    "    \"\"\"\n",
    "    # Filter the data for the specified country and ensure numeric types\n",
    "    country_data = data[data['Country Name'] == country_name].copy()\n",
    "    country_data['Year'] = pd.to_numeric(country_data['Year'])\n",
    "    country_data[indicator] = pd.to_numeric(country_data[indicator], errors='coerce')\n",
    "    \n",
    "    # Plot the data\n",
    "    plt.figure(figsize=(10, 6))\n",
    "    plt.plot(country_data['Year'], country_data[indicator], marker='o')\n",
    "    \n",
    "    # Adding title and labels with improved axes\n",
    "    plt.title(f'{indicator} in {country_name} over the Years')\n",
    "    plt.xlabel('Year')\n",
    "    plt.xticks(country_data['Year'].unique(), rotation=45)  # Ensure all years are shown and rotated for readability\n",
    "    plt.ylabel(indicator)\n",
    "    \n",
    "    # Display the plot\n",
    "    plt.grid(True)\n",
    "    plt.tight_layout()  # Adjust layout to not cut off labels\n",
    "    plt.show()\n",
    "\n",
    "# Attempt to visualize again with corrections\n",
    "visualize_country_data_fixed('Angola', 'GDP per capita growth (annual %)')\n"
   ]
  },
  {
   "cell_type": "markdown",
   "metadata": {},
   "source": [
    "### <a id='toc1_1_2_'></a>[2. Baseline Model](#toc0_)\n",
    "- Simple OLS regression\n",
    "- Bulding-blocks for a dynamic threshold model"
   ]
  },
  {
   "cell_type": "code",
   "execution_count": null,
   "metadata": {},
   "outputs": [],
   "source": [
    "from linearmodels.iv import IV2SLS\n",
    "\n",
    "def estimate_iv_model(data, endog, exog, instrument):\n",
    "    \"\"\"\n",
    "    Estimates an Instrumental Variables (IV) model using the provided data and variables.\n",
    "\n",
    "    Parameters:\n",
    "    - data: The DataFrame containing all data.\n",
    "    - endog: The endogenous variable.\n",
    "    - exog: The exogenous variable.\n",
    "    - instrument: The instrument variable.\n",
    "\n",
    "    Returns:\n",
    "    - The estimated IV model results.\n",
    "    \"\"\"\n",
    "    # Drop rows with missing values in the specified columns\n",
    "    data_subset = data.dropna(subset=[endog, exog, instrument])\n",
    "    \n",
    "    # Create the IV model\n",
    "    iv_model = IV2SLS(dependent=data_subset[endog],\n",
    "                      exog=data_subset[exog],\n",
    "                      endog=data_subset[exog],\n",
    "                      instruments=data_subset[instrument])\n",
    "    \n",
    "    # Fit the model and return the results\n",
    "    iv_results = iv_model.fit()\n",
    "    return iv_results\n",
    "\n",
    "# Estimate the IV model for the specified variables\n",
    "iv_results = estimate_iv_model(data, 'GDP per capita growth (annual %)', 'GDP per capita, PPP (current international $)', 'GDP per capita, PPP (constant 2017 international $)')\n",
    "print(iv_results)\n"
   ]
  },
  {
   "cell_type": "code",
   "execution_count": null,
   "metadata": {},
   "outputs": [],
   "source": [
    "from linearmodels.panel import PanelOLS\n",
    "import numpy as np\n",
    "import statsmodels.api as sm\n",
    "\n",
    "# Since we are going to use lagged values, we need to set the dataframe to have a multi-index of Country and Year\n",
    "data = data.set_index(['Country Name', 'Year'])\n",
    "\n",
    "# Convert all data columns to numeric, errors='coerce' will set non-convertible values to NaN\n",
    "data = data.apply(pd.to_numeric, errors='coerce')\n",
    "\n",
    "# Sort the index to ensure that lagged values are computed correctly\n",
    "data = data.sort_index()\n",
    "\n",
    "# Lagged variables as potential instruments\n",
    "data['Lagged_GDP_growth'] = data.groupby(level=0)['GDP per capita growth (annual %)'].shift(1)\n",
    "data['Lagged_Government_Debt'] = data.groupby(level=0)['Government Debt (% of GDP) (Percent of GDP)'].shift(1)\n",
    "data['Lagged_Terms_of_Trade'] = data.groupby(level=0)['Net barter terms of trade index (2015 = 100)'].shift(1)\n",
    "data['Lagged_Trade'] = data.groupby(level=0)['Trade (% of GDP)'].shift(1)\n",
    "\n",
    "# Drop rows with NaN values that were a result of lagging\n",
    "data = data.dropna()\n",
    "\n",
    "# Define the endogenous variable and instruments\n",
    "endog = data['Government Debt (% of GDP) (Percent of GDP)']\n",
    "exog = sm.add_constant(data[['Lagged_GDP_growth', 'Lagged_Government_Debt', 'Lagged_Terms_of_Trade', 'Lagged_Trade']])\n",
    "instr = data[['Lagged_GDP_growth', 'Lagged_Government_Debt', 'Lagged_Terms_of_Trade', 'Lagged_Trade']]\n",
    "\n",
    "# First-stage regression using PanelOLS (this is a simple OLS, as a placeholder for actual 2SLS that will be done next)\n",
    "# We are regressing the endogenous variable on the instruments\n",
    "mod = PanelOLS(endog, exog, entity_effects=True)\n",
    "res = mod.fit(cov_type='clustered', cluster_entity=True)\n",
    "\n",
    "# Let's display the results of the first-stage regression\n",
    "res.summary.tables[1]\n"
   ]
  },
  {
   "cell_type": "markdown",
   "metadata": {},
   "source": [
    "### <a id='toc1_1_3_'></a>[3. Nonlinearity Check](#toc0_)\n",
    "- Exogeneity check\n",
    "- Multicolinarity check\n",
    "- Heteroskedasticity check\n",
    "- Homoskedasticity check\n",
    "- Nonlinearity check\n",
    "\n",
    "Tests used: \n",
    "1. Durbin-Watson (Autocorrelation)\n",
    "2. VIF\n",
    "3. White-Test (Heteroskedasticity)\n",
    "4. Breusch-Pagan (Heteroskedasticity)"
   ]
  },
  {
   "cell_type": "code",
   "execution_count": null,
   "metadata": {},
   "outputs": [],
   "source": [
    "import matplotlib.pyplot as plt\n",
    "\n",
    "# Fit your baseline linear model from the previous step (if you haven't already)\n",
    "# ... \n",
    "\n",
    "# plot the residuals\n",
    "plt.figure(figsize=(10, 6))\n",
    "plt.scatter(data.index.get_level_values(1), res.resids)\n",
    "plt.title('Residuals of the First-Stage Regression')\n",
    "plt.xlabel('Year')\n",
    "plt.ylabel('Residuals')\n",
    "plt.grid(True)\n",
    "plt.tight_layout()\n",
    "plt.show()\n",
    "\n"
   ]
  },
  {
   "cell_type": "code",
   "execution_count": null,
   "metadata": {},
   "outputs": [],
   "source": [
    "import statsmodels.formula.api as smf\n",
    "\n",
    "# Assuming your fitted model is in  'results'\n",
    "\n",
    "# Second-stage regression using 2SLS\n",
    "# We are regressing the endogenous variable on the instruments\n",
    "# We are also including the exogenous variables from the baseline model\n",
    "# We are using the predicted values from the first-stage regression as the endogenous variable\n",
    "# We are clustering standard errors at the entity level\n",
    "mod_2sls = PanelOLS(data['GDP per capita growth (annual %)'], sm.add_constant(res), entity_effects=True)\n",
    "res_2sls = mod_2sls.fit(cov_type='clustered', cluster_entity=True)\n",
    "\n",
    "# Display the results of the second-stage regression\n",
    "res_2sls.summary\n"
   ]
  },
  {
   "cell_type": "markdown",
   "metadata": {},
   "source": [
    "### <a id='toc1_1_4_'></a>[4. Dynamic Threshold Model](#toc0_)\n",
    "- Building the model\n",
    "- Estimation\n",
    "- Interpretation\n",
    "\n",
    "First set possible threshold values. Then estimate the model."
   ]
  },
  {
   "cell_type": "code",
   "execution_count": null,
   "metadata": {},
   "outputs": [],
   "source": [
    "potential_threshold = 60  "
   ]
  },
  {
   "cell_type": "code",
   "execution_count": null,
   "metadata": {},
   "outputs": [],
   "source": [
    "import pandas as pd\n",
    "import numpy as np\n",
    "import statsmodels.formula.api as smf\n",
    "from sklearn.model_selection import train_test_split \n",
    "\n",
    "def split_data(data, threshold, target_var):\n",
    "    data_below = data[data['Debt_Ratio_to_GDP'] <= threshold]\n",
    "    data_above = data[data['Debt_Ratio_to_GDP'] > threshold]\n",
    "    return data_below, data_above\n",
    "\n",
    "threshold_values = np.arange(20, 90, 0.1)  # Range to explore\n",
    "best_fit = 0  \n",
    "best_threshold = None\n",
    "\n",
    "for threshold in threshold_values:\n",
    "    data_below, data_above = split_data(data, threshold, 'Real_GDP_Growth')\n",
    "\n",
    "    formula = 'Real_GDP_Growth ~ Debt_Ratio_to_GDP + Trade_openess + Inflation + Government_Effectiveness' # Define the formula string here \n",
    "\n",
    "    model_below = smf.ols(formula=formula, data=data_below).fit()\n",
    "    model_above = smf.ols(formula=formula, data=data_above).fit()\n",
    "\n",
    "    current_fit = model_below.rsquared + model_above.rsquared  \n",
    "\n",
    "    if current_fit > best_fit: \n",
    "        best_fit = current_fit\n",
    "        best_threshold = threshold\n",
    "\n",
    "print(f\"Best Threshold: {best_threshold}\") \n",
    "\n",
    "\n"
   ]
  }
 ],
 "metadata": {
  "kernelspec": {
   "display_name": "base",
   "language": "python",
   "name": "python3"
  },
  "language_info": {
   "codemirror_mode": {
    "name": "ipython",
    "version": 3
   },
   "file_extension": ".py",
   "mimetype": "text/x-python",
   "name": "python",
   "nbconvert_exporter": "python",
   "pygments_lexer": "ipython3",
   "version": "3.9.16"
  }
 },
 "nbformat": 4,
 "nbformat_minor": 2
}
