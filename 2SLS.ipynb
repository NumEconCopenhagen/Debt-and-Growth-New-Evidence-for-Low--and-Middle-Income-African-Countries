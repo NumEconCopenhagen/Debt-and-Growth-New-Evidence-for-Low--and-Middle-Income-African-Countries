{
 "cells": [
  {
   "cell_type": "code",
   "execution_count": 1,
   "metadata": {},
   "outputs": [
    {
     "name": "stderr",
     "output_type": "stream",
     "text": [
      "/Users/vg/opt/anaconda3/lib/python3.9/site-packages/scipy/__init__.py:146: UserWarning: A NumPy version >=1.16.5 and <1.23.0 is required for this version of SciPy (detected version 1.23.5\n",
      "  warnings.warn(f\"A NumPy version >={np_minversion} and <{np_maxversion}\"\n"
     ]
    }
   ],
   "source": [
    "import pandas as pd\n",
    "import statsmodels.api as sm\n",
    "import numpy as np\n",
    "import matplotlib.pyplot as plt"
   ]
  },
  {
   "cell_type": "code",
   "execution_count": 2,
   "metadata": {},
   "outputs": [],
   "source": [
    "data = pd.read_csv('fin_dataset_africa copy.csv', delimiter=';')"
   ]
  },
  {
   "cell_type": "code",
   "execution_count": 5,
   "metadata": {},
   "outputs": [
    {
     "name": "stdout",
     "output_type": "stream",
     "text": [
      "Index(['Country_Name', 'Year', 'Government_Debt_(Percent_of_GDP)',\n",
      "       'Foreign_direct_investment_net_inflows_(Percent_of_GDP)',\n",
      "       'GDP_per_capita_growth_(annual_Percent)',\n",
      "       'Gross_capital_formation_(Percent_of_GDP)',\n",
      "       'Gross_national_expenditure_(Percent_of_GDP)',\n",
      "       'Net_barter_terms_of_trade_index_(2015_=_100)',\n",
      "       'Population_growth_(annual_Percent)', 'Trade_(Percent_of_GDP)'],\n",
      "      dtype='object')\n"
     ]
    },
    {
     "name": "stderr",
     "output_type": "stream",
     "text": [
      "/var/folders/zn/8wl2ftxd7sg0pjvzvx59s5xr0000gn/T/ipykernel_19771/373297680.py:9: FutureWarning: Dropping of nuisance columns in DataFrame reductions (with 'numeric_only=None') is deprecated; in a future version this will raise TypeError.  Select only valid columns before calling the reduction.\n",
      "  data.fillna(data.mean(), inplace=True)\n"
     ]
    }
   ],
   "source": [
    "print(data.columns)\n",
    "\n",
    "# print types\n",
    "\n",
    "# convert all values from column 2 and on to numeric\n",
    "data[data.columns[2:]] = data[data.columns[2:]].apply(pd.to_numeric, errors='coerce')\n",
    "\n",
    "# convert nans to mean\n",
    "data.fillna(data.mean(), inplace=True)\n",
    "\n",
    "# convert .. to mean\n",
    "data = data.replace('..', np.nan)"
   ]
  },
  {
   "cell_type": "code",
   "execution_count": 6,
   "metadata": {},
   "outputs": [],
   "source": [
    "# Specify variables \n",
    "dep_var = \"GDP_per_capita_growth_(annual_Percent)\"\n",
    "endogenous_var = \"Government_Debt_(Percent_of_GDP)\"\n",
    "exogenous_vars = [\n",
    "                'Gross_capital_formation_(Percent_of_GDP)',\n",
    "                'Gross_national_expenditure_(Percent_of_GDP)',\n",
    "                'Net_barter_terms_of_trade_index_(2015_=_100)',\n",
    "                'Population_growth_(annual_Percent)', \n",
    "                'Trade_(Percent_of_GDP)'] # Other control variables\n",
    "\n",
    "instrument = \"Foreign_direct_investment_net_inflows_(Percent_of_GDP)\"  "
   ]
  },
  {
   "cell_type": "code",
   "execution_count": 7,
   "metadata": {},
   "outputs": [
    {
     "name": "stdout",
     "output_type": "stream",
     "text": [
      "                                        OLS Regression Results                                       \n",
      "=====================================================================================================\n",
      "Dep. Variable:     Government_Debt_(Percent_of_GDP)   R-squared (uncentered):                   0.570\n",
      "Model:                                          OLS   Adj. R-squared (uncentered):              0.567\n",
      "Method:                               Least Squares   F-statistic:                              200.2\n",
      "Date:                              Thu, 18 Apr 2024   Prob (F-statistic):                   2.96e-162\n",
      "Time:                                      08:47:35   Log-Likelihood:                         -4828.5\n",
      "No. Observations:                               912   AIC:                                      9669.\n",
      "Df Residuals:                                   906   BIC:                                      9698.\n",
      "Df Model:                                         6                                                  \n",
      "Covariance Type:                          nonrobust                                                  \n",
      "==========================================================================================================================\n",
      "                                                             coef    std err          t      P>|t|      [0.025      0.975]\n",
      "--------------------------------------------------------------------------------------------------------------------------\n",
      "Gross_capital_formation_(Percent_of_GDP)                  -0.4381      0.209     -2.092      0.037      -0.849      -0.027\n",
      "Gross_national_expenditure_(Percent_of_GDP)                0.5472      0.062      8.803      0.000       0.425       0.669\n",
      "Net_barter_terms_of_trade_index_(2015_=_100)              -0.0232      0.073     -0.318      0.751      -0.166       0.120\n",
      "Population_growth_(annual_Percent)                        -0.7666      1.715     -0.447      0.655      -4.132       2.599\n",
      "Trade_(Percent_of_GDP)                                     0.1037      0.060      1.715      0.087      -0.015       0.222\n",
      "Foreign_direct_investment_net_inflows_(Percent_of_GDP)     0.5838      0.213      2.746      0.006       0.167       1.001\n",
      "==============================================================================\n",
      "Omnibus:                      854.376   Durbin-Watson:                   0.377\n",
      "Prob(Omnibus):                  0.000   Jarque-Bera (JB):            33982.119\n",
      "Skew:                           4.267   Prob(JB):                         0.00\n",
      "Kurtosis:                      31.661   Cond. No.                         179.\n",
      "==============================================================================\n",
      "\n",
      "Notes:\n",
      "[1] R² is computed without centering (uncentered) since the model does not contain a constant.\n",
      "[2] Standard Errors assume that the covariance matrix of the errors is correctly specified.\n"
     ]
    }
   ],
   "source": [
    "first_stage_model = sm.OLS(data[endogenous_var], data[exogenous_vars + [instrument]]).fit()\n",
    "fitted_values = first_stage_model.fittedvalues\n",
    "\n",
    "# Add fitted values to the dataset\n",
    "data[\"fitted_values\"] = fitted_values\n",
    "\n",
    "print(first_stage_model.summary())"
   ]
  }
 ],
 "metadata": {
  "kernelspec": {
   "display_name": "base",
   "language": "python",
   "name": "python3"
  },
  "language_info": {
   "codemirror_mode": {
    "name": "ipython",
    "version": 3
   },
   "file_extension": ".py",
   "mimetype": "text/x-python",
   "name": "python",
   "nbconvert_exporter": "python",
   "pygments_lexer": "ipython3",
   "version": "3.9.16"
  }
 },
 "nbformat": 4,
 "nbformat_minor": 2
}
