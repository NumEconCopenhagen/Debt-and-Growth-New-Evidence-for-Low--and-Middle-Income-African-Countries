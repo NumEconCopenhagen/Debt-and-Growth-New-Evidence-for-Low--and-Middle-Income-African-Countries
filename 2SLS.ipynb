{
 "cells": [
  {
   "cell_type": "code",
   "execution_count": 1,
   "metadata": {},
   "outputs": [
    {
     "name": "stderr",
     "output_type": "stream",
     "text": [
      "/Users/vg/opt/anaconda3/lib/python3.9/site-packages/scipy/__init__.py:146: UserWarning: A NumPy version >=1.16.5 and <1.23.0 is required for this version of SciPy (detected version 1.23.5\n",
      "  warnings.warn(f\"A NumPy version >={np_minversion} and <{np_maxversion}\"\n"
     ]
    }
   ],
   "source": [
    "import pandas as pd\n",
    "import statsmodels.api as sm\n",
    "import numpy as np\n",
    "import matplotlib.pyplot as plt"
   ]
  },
  {
   "cell_type": "code",
   "execution_count": 2,
   "metadata": {},
   "outputs": [],
   "source": [
    "data = pd.read_csv('fin_dataset_africa copy.csv', delimiter=';')"
   ]
  },
  {
   "cell_type": "code",
   "execution_count": 3,
   "metadata": {},
   "outputs": [
    {
     "name": "stdout",
     "output_type": "stream",
     "text": [
      "Index(['Country_Name', 'Year', 'Government_Debt_Percent_of_GDP',\n",
      "       'Foreign_direct_investment_net_inflows_Percent_of_GDP',\n",
      "       'GDP_per_capita_growth_annual_Percent',\n",
      "       'Gross_capital_formation_Percent_of_GDP',\n",
      "       'Gross_national_expenditure_Percent_of_GDP',\n",
      "       'Net_barter_terms_of_trade_index_2015_100',\n",
      "       'Population_growth_annual_Percent', 'Trade_Percent_of_GDP'],\n",
      "      dtype='object')\n"
     ]
    },
    {
     "name": "stderr",
     "output_type": "stream",
     "text": [
      "/var/folders/zn/8wl2ftxd7sg0pjvzvx59s5xr0000gn/T/ipykernel_20971/373297680.py:9: FutureWarning: Dropping of nuisance columns in DataFrame reductions (with 'numeric_only=None') is deprecated; in a future version this will raise TypeError.  Select only valid columns before calling the reduction.\n",
      "  data.fillna(data.mean(), inplace=True)\n"
     ]
    }
   ],
   "source": [
    "print(data.columns)\n",
    "\n",
    "# print types\n",
    "\n",
    "# convert all values from column 2 and on to numeric\n",
    "data[data.columns[2:]] = data[data.columns[2:]].apply(pd.to_numeric, errors='coerce')\n",
    "\n",
    "# convert nans to mean\n",
    "data.fillna(data.mean(), inplace=True)\n",
    "\n",
    "# convert .. to mean\n",
    "data = data.replace('..', np.nan)"
   ]
  },
  {
   "cell_type": "code",
   "execution_count": 4,
   "metadata": {},
   "outputs": [],
   "source": [
    "# Specify variables \n",
    "dep_var = \"GDP_per_capita_growth_annual_Percent\"\n",
    "endogenous_var = \"Government_Debt_Percent_of_GDP\"\n",
    "exogenous_vars = [\n",
    "                'Gross_capital_formation_Percent_of_GDP',\n",
    "                'Gross_national_expenditure_Percent_of_GDP',\n",
    "                'Net_barter_terms_of_trade_index_2015_100',\n",
    "                'Population_growth_annual_Percent',\n",
    "                'Trade_Percent_of_GDP'] # Other control variables\n",
    "\n",
    "\n",
    "instrument = \"Foreign_direct_investment_net_inflows_Percent_of_GDP\"  "
   ]
  },
  {
   "cell_type": "code",
   "execution_count": 7,
   "metadata": {},
   "outputs": [
    {
     "name": "stdout",
     "output_type": "stream",
     "text": [
      "                                   IV-2SLS Estimation Summary                                   \n",
      "================================================================================================\n",
      "Dep. Variable:     GDP_per_capita_growth_annual_Percent   R-squared:                     -0.3602\n",
      "Estimator:                                      IV-2SLS   Adj. R-squared:                -0.3693\n",
      "No. Observations:                                   912   F-statistic:                    73.094\n",
      "Date:                                  Thu, Apr 18 2024   P-value (F-stat)                0.0000\n",
      "Time:                                          09:18:15   Distribution:                  chi2(6)\n",
      "Cov. Estimator:                                  robust                                         \n",
      "                                                                                                \n",
      "                                             Parameter Estimates                                             \n",
      "=============================================================================================================\n",
      "                                           Parameter  Std. Err.     T-stat    P-value    Lower CI    Upper CI\n",
      "-------------------------------------------------------------------------------------------------------------\n",
      "Gross_capital_formation_Percent_of_GDP        0.0652     0.0360     1.8114     0.0701     -0.0053      0.1357\n",
      "Gross_national_expenditure_Percent_of_GDP    -0.0265     0.0231    -1.1454     0.2520     -0.0719      0.0189\n",
      "Net_barter_terms_of_trade_index_2015_100      0.0026     0.0094     0.2809     0.7788     -0.0158      0.0211\n",
      "Population_growth_annual_Percent             -0.0986     0.3329    -0.2962     0.7671     -0.7511      0.5539\n",
      "Trade_Percent_of_GDP                         -0.0086     0.0103    -0.8291     0.4070     -0.0288      0.0117\n",
      "Government_Debt_Percent_of_GDP                0.0623     0.0408     1.5242     0.1275     -0.0178      0.1423\n",
      "=============================================================================================================\n",
      "\n",
      "Endogenous: Government_Debt_Percent_of_GDP\n",
      "Instruments: Foreign_direct_investment_net_inflows_Percent_of_GDP\n",
      "Robust Covariance (Heteroskedastic)\n",
      "Debiased: False\n"
     ]
    }
   ],
   "source": [
    "from linearmodels import IV2SLS\n",
    "\n",
    "iv = IV2SLS(dependent=data[dep_var], exog=data[exogenous_vars], endog=data[endogenous_var], instruments=data[instrument]).fit()\n",
    "\n",
    "print(iv.summary)"
   ]
  }
 ],
 "metadata": {
  "kernelspec": {
   "display_name": "base",
   "language": "python",
   "name": "python3"
  },
  "language_info": {
   "codemirror_mode": {
    "name": "ipython",
    "version": 3
   },
   "file_extension": ".py",
   "mimetype": "text/x-python",
   "name": "python",
   "nbconvert_exporter": "python",
   "pygments_lexer": "ipython3",
   "version": "3.9.16"
  }
 },
 "nbformat": 4,
 "nbformat_minor": 2
}
