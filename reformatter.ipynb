{
 "cells": [
  {
   "cell_type": "code",
   "execution_count": 1,
   "metadata": {},
   "outputs": [],
   "source": [
    "import pandas as pd\n",
    "import numpy as np"
   ]
  },
  {
   "cell_type": "code",
   "execution_count": 2,
   "metadata": {},
   "outputs": [],
   "source": [
    "# load data\n",
    "\n",
    "data = pd.read_csv('done_data.csv', delimiter = ';')\n",
    "\n",
    "# drop columns \"Gross_capital_formation_Percent_of_GDP\" and \"Gross_national_expenditure_Percent_of_GDP\"\n",
    "\n",
    "data = data.drop(columns = [\"Gross_capital_formation_Percent_of_GDP\", \"Gross_national_expenditure_Percent_of_GDP\", \"Trade_Percent_of_GDP\"])\n",
    "\n",
    "\n"
   ]
  },
  {
   "cell_type": "code",
   "execution_count": 3,
   "metadata": {},
   "outputs": [
    {
     "name": "stdout",
     "output_type": "stream",
     "text": [
      "Country_Name                                             object\n",
      "Year                                                    float64\n",
      "Government_Debt_Percent_of_GDP                          float64\n",
      "Foreign_direct_investment_net_inflows_Percent_of_GDP    float64\n",
      "GDP_per_capita_growth_annual_Percent                    float64\n",
      "Net_barter_terms_of_trade_index_2015_100                 object\n",
      "Population_growth_annual_Percent                        float64\n",
      "dtype: object\n"
     ]
    }
   ],
   "source": [
    "print(data.dtypes)"
   ]
  },
  {
   "cell_type": "code",
   "execution_count": 4,
   "metadata": {},
   "outputs": [],
   "source": [
    "# replace values \",,\" from the dataset with NaN\n",
    "data = data.replace('..', np.nan)"
   ]
  },
  {
   "cell_type": "code",
   "execution_count": 5,
   "metadata": {},
   "outputs": [
    {
     "name": "stdout",
     "output_type": "stream",
     "text": [
      "Country_Name                                             object\n",
      "Year                                                    float64\n",
      "Government_Debt_Percent_of_GDP                          float64\n",
      "Foreign_direct_investment_net_inflows_Percent_of_GDP    float64\n",
      "GDP_per_capita_growth_annual_Percent                    float64\n",
      "Net_barter_terms_of_trade_index_2015_100                float64\n",
      "Population_growth_annual_Percent                        float64\n",
      "dtype: object\n"
     ]
    }
   ],
   "source": [
    "\n",
    "# convert all columns after the 2nd to float\n",
    "data.iloc[:, 2:] = data.iloc[:, 2:].astype(float)\n",
    "\n",
    "# convert \"Net_barter_terms_of_trade_Index_2000_100\" to float\n",
    "data[\"Net_barter_terms_of_trade_index_2015_100\"] = data[\"Net_barter_terms_of_trade_index_2015_100\"].astype(float)\n",
    "\n",
    "print(data.dtypes)\n"
   ]
  },
  {
   "cell_type": "code",
   "execution_count": 6,
   "metadata": {},
   "outputs": [
    {
     "name": "stdout",
     "output_type": "stream",
     "text": [
      "              Year  Government_Debt_Percent_of_GDP   \n",
      "count   817.000000                      817.000000  \\\n",
      "mean   2013.000000                       51.761854   \n",
      "std       5.480581                       45.266106   \n",
      "min    2004.000000                        0.490000   \n",
      "25%    2008.000000                       27.630000   \n",
      "50%    2013.000000                       42.090000   \n",
      "75%    2018.000000                       61.310000   \n",
      "max    2022.000000                      543.400000   \n",
      "\n",
      "       Foreign_direct_investment_net_inflows_Percent_of_GDP   \n",
      "count                                         817.000000     \\\n",
      "mean                                            4.533678      \n",
      "std                                             8.158123      \n",
      "min                                           -17.290000      \n",
      "25%                                             1.150000      \n",
      "50%                                             2.630000      \n",
      "75%                                             5.190000      \n",
      "max                                           103.340000      \n",
      "\n",
      "       GDP_per_capita_growth_annual_Percent   \n",
      "count                            817.000000  \\\n",
      "mean                               1.625398   \n",
      "std                                4.583166   \n",
      "min                              -36.780000   \n",
      "25%                               -0.140000   \n",
      "50%                                1.890000   \n",
      "75%                                3.700000   \n",
      "max                               31.870000   \n",
      "\n",
      "       Net_barter_terms_of_trade_index_2015_100   \n",
      "count                                817.000000  \\\n",
      "mean                                 101.892754   \n",
      "std                                   20.365082   \n",
      "min                                   18.700000   \n",
      "25%                                   91.330000   \n",
      "50%                                  100.000000   \n",
      "75%                                  109.090000   \n",
      "max                                  194.840000   \n",
      "\n",
      "       Population_growth_annual_Percent  \n",
      "count                        817.000000  \n",
      "mean                           2.456701  \n",
      "std                            0.936330  \n",
      "min                           -2.630000  \n",
      "25%                            2.040000  \n",
      "50%                            2.600000  \n",
      "75%                            2.990000  \n",
      "max                            5.630000  \n"
     ]
    }
   ],
   "source": [
    "# replace all NaN values with a 5 year moving average except the first 2 columns\n",
    "data.iloc[:, 2:] = data.iloc[:, 2:].apply(lambda x: x.fillna(x.rolling(5, min_periods=1).mean()))\n",
    "\n",
    "# describe data\n",
    "print(data.describe())"
   ]
  },
  {
   "cell_type": "code",
   "execution_count": 7,
   "metadata": {},
   "outputs": [],
   "source": [
    "# save data as csv, call it \"ny_clean_data.csv\"\n",
    "\n",
    "data.to_csv('ny_clean_data.csv', index = False)"
   ]
  }
 ],
 "metadata": {
  "kernelspec": {
   "display_name": "ml",
   "language": "python",
   "name": "python3"
  },
  "language_info": {
   "codemirror_mode": {
    "name": "ipython",
    "version": 3
   },
   "file_extension": ".py",
   "mimetype": "text/x-python",
   "name": "python",
   "nbconvert_exporter": "python",
   "pygments_lexer": "ipython3",
   "version": "3.9.16"
  }
 },
 "nbformat": 4,
 "nbformat_minor": 2
}
